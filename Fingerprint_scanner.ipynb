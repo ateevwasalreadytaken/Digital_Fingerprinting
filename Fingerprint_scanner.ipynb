{
 "cells": [
  {
   "cell_type": "code",
   "execution_count": null,
   "metadata": {},
   "outputs": [],
   "source": [
    "from PIL import Image\n",
    "from io import BytesIO\n",
    "import requests\n",
    "from bs4 import BeautifulSoup\n",
    "import string"
   ]
  },
  {
   "cell_type": "code",
   "execution_count": null,
   "metadata": {},
   "outputs": [],
   "source": [
    "# Make a request\n",
    "plagiarized = input(\"Enter link of suspected image: \")"
   ]
  },
  {
   "cell_type": "code",
   "execution_count": null,
   "metadata": {},
   "outputs": [],
   "source": [
    "response2 = requests.get(plagiarized)\n",
    "\n",
    "im2 = Image.open(BytesIO(response2.content))"
   ]
  },
  {
   "cell_type": "code",
   "execution_count": null,
   "metadata": {},
   "outputs": [],
   "source": [
    "username = input(\"Enter username: \")\n",
    "array = [0,0,0,0,0,0,0,0,0,0]\n",
    "username = username[0:5]\n",
    "c = 0\n",
    "for i in username:\n",
    "    p = int(ord(i))\n",
    "    array[c] = p\n",
    "    c = c + 1\n",
    "for i in username:\n",
    "    p = int(ord(i))\n",
    "    array[c] = p\n",
    "    c = c + 1"
   ]
  },
  {
   "cell_type": "code",
   "execution_count": null,
   "metadata": {},
   "outputs": [],
   "source": [
    "print(array)    "
   ]
  },
  {
   "cell_type": "code",
   "execution_count": null,
   "metadata": {},
   "outputs": [],
   "source": [
    "width, height = im2.size\n",
    "row = height/2"
   ]
  },
  {
   "cell_type": "code",
   "execution_count": null,
   "metadata": {},
   "outputs": [],
   "source": [
    "row_off = 0\n",
    "for i in range(0,5):\n",
    "    array[i] = 600 * (150 + row_off) + array[i]\n",
    "    row_off = row_off + 30\n",
    "for i in range(5,10):\n",
    "    array[i] = 600 * (150 + row_off) + 550 - array[i]\n",
    "    row_off = row_off + 30"
   ]
  },
  {
   "cell_type": "code",
   "execution_count": null,
   "metadata": {},
   "outputs": [],
   "source": [
    "print(row)\n",
    "print(array)"
   ]
  },
  {
   "cell_type": "code",
   "execution_count": null,
   "metadata": {},
   "outputs": [],
   "source": [
    "counter2 = 0\n",
    "datas = list(im2.getdata())\n",
    "for x in array:\n",
    "    if datas[x][3] == 0:\n",
    "        counter2 = counter2 + 1\n",
    "print(counter2)"
   ]
  },
  {
   "cell_type": "code",
   "execution_count": null,
   "metadata": {},
   "outputs": [],
   "source": [
    "if counter2/10 == 1:\n",
    "    print(\"PLAGIARIZED\")"
   ]
  },
  {
   "cell_type": "code",
   "execution_count": null,
   "metadata": {},
   "outputs": [],
   "source": []
  }
 ],
 "metadata": {
  "kernelspec": {
   "display_name": "Python 3",
   "language": "python",
   "name": "python3"
  },
  "language_info": {
   "codemirror_mode": {
    "name": "ipython",
    "version": 3
   },
   "file_extension": ".py",
   "mimetype": "text/x-python",
   "name": "python",
   "nbconvert_exporter": "python",
   "pygments_lexer": "ipython3",
   "version": "3.7.3"
  }
 },
 "nbformat": 4,
 "nbformat_minor": 2
}

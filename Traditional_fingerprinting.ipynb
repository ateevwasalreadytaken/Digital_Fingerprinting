{
 "cells": [
  {
   "cell_type": "code",
   "execution_count": 1,
   "metadata": {},
   "outputs": [],
   "source": [
    "from PIL import Image\n",
    "import imagehash\n",
    "import hashlib\n",
    "from io import BytesIO\n",
    "import requests\n",
    "import string"
   ]
  },
  {
   "cell_type": "code",
   "execution_count": 2,
   "metadata": {},
   "outputs": [
    {
     "name": "stdout",
     "output_type": "stream",
     "text": [
      "Enter link of original image: https://d37k7e86lke5eg.cloudfront.net/webp-images-live/looks-1604003265253.webp\n"
     ]
    }
   ],
   "source": [
    "fashmates = input(\"Enter link of original image: \")"
   ]
  },
  {
   "cell_type": "code",
   "execution_count": 3,
   "metadata": {},
   "outputs": [
    {
     "name": "stdout",
     "output_type": "stream",
     "text": [
      "Enter link of suspected image: https://d37k7e86lke5eg.cloudfront.net/webp-images-live/5fe89ecef5d17744297aa2ed-1609080526645normal.webp\n"
     ]
    }
   ],
   "source": [
    "plagiarized = input(\"Enter link of suspected image: \")"
   ]
  },
  {
   "cell_type": "code",
   "execution_count": 4,
   "metadata": {},
   "outputs": [],
   "source": [
    "original = requests.get(fashmates)\n",
    "image_to_compare = requests.get(plagiarized)\n",
    "im1 = Image.open(BytesIO(original.content))\n",
    "im2 = Image.open(BytesIO(image_to_compare.content))"
   ]
  },
  {
   "cell_type": "code",
   "execution_count": 5,
   "metadata": {},
   "outputs": [],
   "source": [
    "fingerprint1 = str(imagehash.dhash(im1))\n",
    "fingerprint2 = str(imagehash.dhash(im2))"
   ]
  },
  {
   "cell_type": "code",
   "execution_count": 6,
   "metadata": {},
   "outputs": [
    {
     "name": "stdout",
     "output_type": "stream",
     "text": [
      "4273310e0f427331\n"
     ]
    }
   ],
   "source": [
    "print(fingerprint1)"
   ]
  },
  {
   "cell_type": "code",
   "execution_count": 7,
   "metadata": {},
   "outputs": [
    {
     "name": "stdout",
     "output_type": "stream",
     "text": [
      "4273310e0f427331\n"
     ]
    }
   ],
   "source": [
    "print(fingerprint2)"
   ]
  },
  {
   "cell_type": "code",
   "execution_count": 8,
   "metadata": {},
   "outputs": [
    {
     "name": "stdout",
     "output_type": "stream",
     "text": [
      "Enter link of suspected image: https://d37k7e86lke5eg.cloudfront.net/webp-images-live/5fe89ecef5d17744297aa2ed-1609080526645normal.webp\n",
      "Enter username: ateev\n",
      "Year originally created: 2020\n",
      "Day originally created: 23\n",
      "Month originally created: 12\n",
      "[97, 116, 101, 101, 118, 20, 12, 23]\n",
      "300.0\n",
      "[90097, 108116, 126101, 144101, 162118, 180430, 198438, 216427]\n",
      "8\n",
      "PLAGIARIZED\n"
     ]
    }
   ],
   "source": [
    "if fingerprint1 == fingerprint2:\n",
    "    %run ./Fingerprint_scanner.ipynb\n",
    "else:\n",
    "    %run ./alternative_fingerprinting.ipynb"
   ]
  },
  {
   "cell_type": "code",
   "execution_count": null,
   "metadata": {},
   "outputs": [],
   "source": []
  }
 ],
 "metadata": {
  "kernelspec": {
   "display_name": "Python 3",
   "language": "python",
   "name": "python3"
  },
  "language_info": {
   "codemirror_mode": {
    "name": "ipython",
    "version": 3
   },
   "file_extension": ".py",
   "mimetype": "text/x-python",
   "name": "python",
   "nbconvert_exporter": "python",
   "pygments_lexer": "ipython3",
   "version": "3.7.3"
  }
 },
 "nbformat": 4,
 "nbformat_minor": 2
}

{
 "cells": [
  {
   "cell_type": "code",
   "execution_count": 7,
   "metadata": {},
   "outputs": [],
   "source": [
    "from PIL import Image\n",
    "from io import BytesIO\n",
    "import requests\n",
    "from bs4 import BeautifulSoup\n",
    "import string"
   ]
  },
  {
   "cell_type": "code",
   "execution_count": 8,
   "metadata": {},
   "outputs": [
    {
     "name": "stdout",
     "output_type": "stream",
     "text": [
      "Enter link of original image that has to be fingerprinted: https://d37k7e86lke5eg.cloudfront.net/webp-images-live/looks-1604003265253.webp\n"
     ]
    }
   ],
   "source": [
    "# Make a request\n",
    "fashmates = input(\"Enter link of original image that has to be fingerprinted: \")"
   ]
  },
  {
   "cell_type": "code",
   "execution_count": 9,
   "metadata": {},
   "outputs": [],
   "source": [
    "response = requests.get(fashmates)"
   ]
  },
  {
   "cell_type": "code",
   "execution_count": 10,
   "metadata": {},
   "outputs": [],
   "source": [
    "im = Image.open(BytesIO(response.content))"
   ]
  },
  {
   "cell_type": "code",
   "execution_count": 11,
   "metadata": {},
   "outputs": [],
   "source": [
    "width, height = im.size\n",
    "row = height/2"
   ]
  },
  {
   "cell_type": "code",
   "execution_count": 12,
   "metadata": {},
   "outputs": [
    {
     "name": "stdout",
     "output_type": "stream",
     "text": [
      "Enter username: ateev\n"
     ]
    }
   ],
   "source": [
    "username = input(\"Enter username: \")\n",
    "array = [0,0,0,0,0,0,0,0,0,0]\n",
    "username = username[0:5]\n",
    "c = 0\n",
    "for i in username:\n",
    "    p = int(ord(i))\n",
    "    array[c] = p\n",
    "    c = c + 1\n",
    "for i in username:\n",
    "    p = int(ord(i))\n",
    "    array[c] = p\n",
    "    c = c + 1"
   ]
  },
  {
   "cell_type": "code",
   "execution_count": 13,
   "metadata": {},
   "outputs": [],
   "source": [
    "row_off = 0\n",
    "for i in range(0,5):\n",
    "    array[i] = 600 * (150 + row_off) + array[i]\n",
    "    row_off = row_off + 30\n",
    "for i in range(5,10):\n",
    "    array[i] = 600 * (150 + row_off) + 550 - array[i]\n",
    "    row_off = row_off + 30"
   ]
  },
  {
   "cell_type": "code",
   "execution_count": 14,
   "metadata": {},
   "outputs": [
    {
     "name": "stdout",
     "output_type": "stream",
     "text": [
      "[90097, 108116, 126101, 144101, 162118, 180453, 198434, 216449, 234449, 252432]\n"
     ]
    }
   ],
   "source": [
    "print(array)"
   ]
  },
  {
   "cell_type": "code",
   "execution_count": 15,
   "metadata": {},
   "outputs": [],
   "source": [
    "img = im.convert(\"RGBA\")\n",
    "datas = img.getdata()\n",
    "count = 0\n",
    "newData = []\n",
    "for item in datas:\n",
    "    if (count in array or \n",
    "        (count + 600) in array or \n",
    "        (count - 600) in array or \n",
    "        (count + 1) in array or \n",
    "        (count - 1) in array):\n",
    "        newData.append((255, 255, 125, 0))\n",
    "    else:\n",
    "        newData.append(item)\n",
    "    count+=1\n",
    "\n",
    "img.putdata(newData)\n",
    "img.save(\"test.png\", \"PNG\")"
   ]
  },
  {
   "cell_type": "code",
   "execution_count": null,
   "metadata": {},
   "outputs": [],
   "source": []
  }
 ],
 "metadata": {
  "kernelspec": {
   "display_name": "Python 3",
   "language": "python",
   "name": "python3"
  },
  "language_info": {
   "codemirror_mode": {
    "name": "ipython",
    "version": 3
   },
   "file_extension": ".py",
   "mimetype": "text/x-python",
   "name": "python",
   "nbconvert_exporter": "python",
   "pygments_lexer": "ipython3",
   "version": "3.7.3"
  }
 },
 "nbformat": 4,
 "nbformat_minor": 2
}

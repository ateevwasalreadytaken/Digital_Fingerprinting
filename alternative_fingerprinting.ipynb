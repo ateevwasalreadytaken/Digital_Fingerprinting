{
 "cells": [
  {
   "cell_type": "code",
   "execution_count": 3,
   "metadata": {},
   "outputs": [],
   "source": [
    "from PIL import Image\n",
    "from io import BytesIO\n",
    "import requests\n",
    "from bs4 import BeautifulSoup\n",
    "import string\n",
    "import imagehash\n",
    "from difflib import SequenceMatcher\n",
    "\n",
    "def similar(a, b):\n",
    "    return SequenceMatcher(None, a, b).ratio()"
   ]
  },
  {
   "cell_type": "code",
   "execution_count": 4,
   "metadata": {},
   "outputs": [],
   "source": [
    "def mostFrequent(arr, n): \n",
    "  \n",
    "    # Sort the array \n",
    "    arr.sort() \n",
    "  \n",
    "    # find the max frequency using \n",
    "    # linear traversal \n",
    "    max_count = 1; res = arr[0]; curr_count = 1\n",
    "      \n",
    "    for i in range(1, n):  \n",
    "        if (arr[i] == arr[i - 1]): \n",
    "            curr_count += 1\n",
    "              \n",
    "        else : \n",
    "            if (curr_count > max_count):  \n",
    "                max_count = curr_count \n",
    "                res = arr[i - 1] \n",
    "              \n",
    "            curr_count = 1\n",
    "      \n",
    "    # If last element is most frequent \n",
    "    if (curr_count > max_count): \n",
    "      \n",
    "        max_count = curr_count \n",
    "        res = arr[n - 1] \n",
    "      \n",
    "    return res"
   ]
  },
  {
   "cell_type": "code",
   "execution_count": 5,
   "metadata": {},
   "outputs": [
    {
     "name": "stdout",
     "output_type": "stream",
     "text": [
      "Enter link of suspected image: https://d37k7e86lke5eg.cloudfront.net/webp-images-live/5feaffaff5d17744297bf883-1609236399871normal.webp\n"
     ]
    }
   ],
   "source": [
    "plagiarized = input(\"Enter link of suspected image: \")"
   ]
  },
  {
   "cell_type": "code",
   "execution_count": 6,
   "metadata": {},
   "outputs": [
    {
     "name": "stdout",
     "output_type": "stream",
     "text": [
      "Enter username: ateev\n"
     ]
    }
   ],
   "source": [
    "username = input(\"Enter username: \")\n",
    "array = [0,0,0,0,0,0,0,0,0,0]\n",
    "username = username[0:5]\n",
    "c = 0\n",
    "for i in username:\n",
    "    p = int(ord(i))\n",
    "    array[c] = p\n",
    "    c = c + 1\n",
    "for i in username:\n",
    "    p = int(ord(i))\n",
    "    array[c] = p\n",
    "    c = c + 1"
   ]
  },
  {
   "cell_type": "code",
   "execution_count": 7,
   "metadata": {},
   "outputs": [
    {
     "name": "stdout",
     "output_type": "stream",
     "text": [
      "[97, 116, 101, 101, 118, 97, 116, 101, 101, 118]\n"
     ]
    }
   ],
   "source": [
    "print(array)    "
   ]
  },
  {
   "cell_type": "code",
   "execution_count": 8,
   "metadata": {},
   "outputs": [],
   "source": [
    "response2 = requests.get(plagiarized)\n",
    "\n",
    "im2 = Image.open(BytesIO(response2.content))"
   ]
  },
  {
   "cell_type": "code",
   "execution_count": 9,
   "metadata": {},
   "outputs": [],
   "source": [
    "vals = []\n",
    "row = -1\n",
    "col = -1\n",
    "datas = list(im2.getdata())\n",
    "for i in range(0,600):\n",
    "    for j in range(0,600):\n",
    "        if datas[i*600 + j][3] < 100:\n",
    "            if i == 0 or j == 0:\n",
    "                continue\n",
    "            vals.append([i, j])"
   ]
  },
  {
   "cell_type": "code",
   "execution_count": 10,
   "metadata": {},
   "outputs": [],
   "source": [
    "arr1 = [vals[0][0], vals[1][0], vals[2][0], vals[3][0], vals[4][0]]\n",
    "arr2 = [vals[0][1], vals[1][1], vals[2][1], vals[3][1], vals[4][1]]\n",
    "arr3 = [vals[len(vals) - 5][0], vals[len(vals) - 4][0], vals[len(vals) - 3][0], vals[len(vals) - 2][0], vals[len(vals) - 1][0]]\n",
    "arr4 = [vals[len(vals) - 5][1], vals[len(vals) - 4][1], vals[len(vals) - 3][1], vals[len(vals) - 2][1], vals[len(vals) - 1][1]]"
   ]
  },
  {
   "cell_type": "code",
   "execution_count": 11,
   "metadata": {},
   "outputs": [],
   "source": [
    "top = mostFrequent(arr1, 5) + 1\n",
    "left = mostFrequent(arr2, 5) + 1\n",
    "bottom =  mostFrequent(arr3, 5) + 1\n",
    "right =  mostFrequent(arr4, 5) + 1\n",
    "im2 = im2.crop((left, top, right, bottom)) \n",
    "im2.save(\"crop_m.png\", \"PNG\")"
   ]
  },
  {
   "cell_type": "code",
   "execution_count": 12,
   "metadata": {},
   "outputs": [
    {
     "name": "stdout",
     "output_type": "stream",
     "text": [
      "Enter link of original image: https://d37k7e86lke5eg.cloudfront.net/webp-images-live/5feaff88f5d17744297bf879-1609236360622normal.webp\n"
     ]
    }
   ],
   "source": [
    "fashmates = input(\"Enter link of original image: \")\n",
    "response = requests.get(fashmates)\n",
    "im = Image.open(BytesIO(response.content))"
   ]
  },
  {
   "cell_type": "code",
   "execution_count": 13,
   "metadata": {},
   "outputs": [],
   "source": [
    "top_n = -1\n",
    "datas = list(im.getdata())\n",
    "for i in range(0,600):\n",
    "    for j in range(0,600):\n",
    "        if datas[i*600 + j][3] < 100:\n",
    "            if i == 0 or j == 0:\n",
    "                continue\n",
    "            top_n = i\n",
    "            break\n",
    "    if top_n > 0:\n",
    "        break\n",
    "im = im.crop((array[0] + 1, top_n + 2, 551 - array[9], top_n + 272)) \n",
    "im = im.resize(im2.size)\n",
    "im.save(\"crop_o.png\", \"PNG\")"
   ]
  },
  {
   "cell_type": "code",
   "execution_count": 14,
   "metadata": {},
   "outputs": [],
   "source": [
    "fingerprint1 = str(imagehash.dhash(im))\n",
    "fingerprint2 = str(imagehash.dhash(im2))"
   ]
  },
  {
   "cell_type": "code",
   "execution_count": 15,
   "metadata": {},
   "outputs": [
    {
     "name": "stdout",
     "output_type": "stream",
     "text": [
      "7462858e93094088\n",
      "7462850e93094088\n"
     ]
    }
   ],
   "source": [
    "print(fingerprint1)\n",
    "print(fingerprint2)"
   ]
  },
  {
   "cell_type": "code",
   "execution_count": 16,
   "metadata": {},
   "outputs": [
    {
     "name": "stdout",
     "output_type": "stream",
     "text": [
      "0.9375\n",
      "This is the score indicating whether the reported image is plagiarized\n"
     ]
    }
   ],
   "source": [
    "print(similar(fingerprint1, fingerprint2))\n",
    "print(\"This is the score indicating whether the reported image is plagiarized\")"
   ]
  },
  {
   "cell_type": "code",
   "execution_count": null,
   "metadata": {},
   "outputs": [],
   "source": []
  }
 ],
 "metadata": {
  "kernelspec": {
   "display_name": "Python 3",
   "language": "python",
   "name": "python3"
  },
  "language_info": {
   "codemirror_mode": {
    "name": "ipython",
    "version": 3
   },
   "file_extension": ".py",
   "mimetype": "text/x-python",
   "name": "python",
   "nbconvert_exporter": "python",
   "pygments_lexer": "ipython3",
   "version": "3.7.3"
  }
 },
 "nbformat": 4,
 "nbformat_minor": 2
}
